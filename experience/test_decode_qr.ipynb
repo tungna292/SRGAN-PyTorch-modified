{
 "cells": [
  {
   "cell_type": "markdown",
   "id": "2724cb4d",
   "metadata": {},
   "source": [
    "# 1. Test decode qrcode with different libraries"
   ]
  },
  {
   "cell_type": "markdown",
   "id": "c4a0758d",
   "metadata": {},
   "source": [
    "## 1.1. zbarimg lib"
   ]
  },
  {
   "cell_type": "code",
   "execution_count": null,
   "id": "a88e2e4b",
   "metadata": {},
   "outputs": [],
   "source": [
    "!zbarimg test_mask.jpg"
   ]
  },
  {
   "cell_type": "markdown",
   "id": "9a10037e",
   "metadata": {},
   "source": [
    "## 1.2. zbarlight lib"
   ]
  },
  {
   "cell_type": "code",
   "execution_count": null,
   "id": "47f9acdc",
   "metadata": {},
   "outputs": [],
   "source": [
    "from PIL import Image\n",
    "import zbarlight\n",
    "\n",
    "file_path = \"experience_size_image/images/6.jpg\"\n",
    "with open(file_path, 'rb') as image_file:\n",
    "    image = Image.open(image_file)\n",
    "    image.load()\n",
    "\n",
    "codes = zbarlight.scan_codes(['qrcode'], image)\n",
    "print(codes[0].decode('utf8'))"
   ]
  },
  {
   "cell_type": "markdown",
   "id": "65830361",
   "metadata": {},
   "source": [
    "## 1.3. qrtools lib"
   ]
  },
  {
   "cell_type": "code",
   "execution_count": null,
   "id": "bc5730b9",
   "metadata": {},
   "outputs": [],
   "source": [
    "from PIL import Image\n",
    "from io import BytesIO\n",
    "import zbar\n",
    "\n",
    "from qrtools.src.qrtools import QR\n",
    "\n",
    "class CustomQR(QR):\n",
    "    def decode(self, filename=None):\n",
    "        self.filename = filename or self.filename\n",
    "        if self.filename:\n",
    "            scanner = zbar.ImageScanner()\n",
    "            # configure the reader\n",
    "            scanner.parse_config('enable')\n",
    "            # obtain image data\n",
    "            pil = Image.open(self.filename).convert('L')\n",
    "            width, height = pil.size\n",
    "            try:\n",
    "                raw = pil.tobytes()\n",
    "            except AttributeError:\n",
    "                raw = pil.tostring()\n",
    "            # wrap image data\n",
    "            image = zbar.Image(width, height, 'Y800', raw)\n",
    "            # scan the image for barcodes\n",
    "            result = scanner.scan(image)\n",
    "            # extract results\n",
    "            if result == 0:\n",
    "                return False\n",
    "            else:\n",
    "                for symbol in image:\n",
    "                    pass\n",
    "                # clean up\n",
    "                del(image)\n",
    "                # Assuming data is encoded in utf8\n",
    "                self.data = symbol.data\n",
    "                self.data_type = self.data_recognise()\n",
    "                return self.data\n",
    "        else:\n",
    "            return False\n",
    "        \n",
    "qr = CustomQR()\n",
    "my_code = qr.decode(u'experience_size_image/images/6.jpg')\n",
    "print(my_code)\n",
    "\n"
   ]
  },
  {
   "cell_type": "markdown",
   "id": "2d227874",
   "metadata": {},
   "source": [
    "## 1.4. pyzbar lib"
   ]
  },
  {
   "cell_type": "code",
   "execution_count": null,
   "id": "f470003e",
   "metadata": {},
   "outputs": [],
   "source": [
    "import cv2\n",
    "from pyzbar.pyzbar import decode\n",
    "from PIL import Image\n",
    "\n",
    "image = Image.open(\"experience_size_image/images/6.jpg\")\n",
    "qrcode = decode(image)\n",
    "print(qrcode[0].data.decode('utf8'))"
   ]
  },
  {
   "cell_type": "markdown",
   "id": "d298172f",
   "metadata": {},
   "source": [
    "#  2.  Recostruct QR with input size 500"
   ]
  },
  {
   "cell_type": "code",
   "execution_count": 1,
   "id": "fee35310",
   "metadata": {},
   "outputs": [],
   "source": [
    "#  Test with input size 500, (+1, <128) \n",
    "import cv2\n",
    "import numpy as np\n",
    "\n",
    "def reconstruct_qr(img_path):\n",
    "    # Read image\n",
    "    img = cv2.imread(img_path)\n",
    "    img = cv2.resize(img, (500,500))\n",
    "    width,height = img.shape[:2]\n",
    "    img_grid = img.copy()\n",
    "    cv2.imshow(\"Original QRcode\", img)\n",
    "    # print(\"Shape of original QRcode  \", img.shape)\n",
    "    \n",
    "    # Create blank qr\n",
    "    qr_reconstruct = np.ones((500,500))\n",
    "\n",
    "    # Reconstrcuct image\n",
    "    for y in range(300):\n",
    "        for x in range(300):\n",
    "            x1,y1 = (round(x*width/300),round(y*height/300))\n",
    "            x2,y2 = (round(x1+10),round(y1+10))\n",
    "            \n",
    "            img_box = img[y1:y2,x1:x2]\n",
    "            \n",
    "            if np.average(img_box)<150:\n",
    "                qr_reconstruct[y1:y2,x1:x2]=0\n",
    "            else:\n",
    "                qr_reconstruct[y1:y2,x1:x2]=255\n",
    "\n",
    "    for x in range(300):\n",
    "        p1 = (round(x*width/300),0)\n",
    "        p2 = (round(x*width/300),height)\n",
    "        cv2.line(img_grid,p1,p2,(255),1)\n",
    "\n",
    "    for y in range(300):\n",
    "        p1 = (0,round(y*height/300))\n",
    "        p2 = (width,round(y*height/300))\n",
    "        cv2.line(img_grid,p1,p2,(255),1)  \n",
    "    \n",
    "#     cv2.imwrite(\"img_grid.jpg\", img_grid)\n",
    "\n",
    "#     cv2.imwrite(\"qrcode_reconstruction.jpg\", 255*qr_reconstruct)\n",
    "    cv2.imshow('QRcode Reconstruction',qr_reconstruct)\n",
    "    cv2.waitKey()\n",
    "    cv2.destroyAllWindows()\n"
   ]
  },
  {
   "cell_type": "code",
   "execution_count": 2,
   "id": "41c5f37c",
   "metadata": {},
   "outputs": [],
   "source": [
    "img_path = \"experience/experience_clear_img/images_processed_120/1_thidang_120.jpg\"\n",
    "reconstruct_qr(img_path)"
   ]
  },
  {
   "cell_type": "code",
   "execution_count": 1,
   "id": "768da01d",
   "metadata": {},
   "outputs": [],
   "source": [
    "#  Test with input size 500, (+1, <128) \n",
    "import cv2\n",
    "import numpy as np\n",
    "\n",
    "def reconstruct_qr(img_path, size_of_image, size_of_grid):\n",
    "    # Read image\n",
    "    img = cv2.imread(img_path)\n",
    "    img = cv2.resize(img, (size_of_image, size_of_image))\n",
    "    width,height = img.shape[:2]\n",
    "    img_grid = img.copy()\n",
    "    cv2.imshow(\"Original QRcode\", img)\n",
    "    \n",
    "    # Create blank qr\n",
    "    qr_reconstruct = np.ones((size_of_image, size_of_image))\n",
    "\n",
    "    # Reconstrcuct image\n",
    "    for y in range(size_of_grid):\n",
    "        for x in range(size_of_grid):\n",
    "            x1,y1 = (round(x*width/size_of_grid),round(y*height/size_of_grid))\n",
    "            x2,y2 = (round(x1+10),round(y1+10))\n",
    "            \n",
    "            img_box = img[y1:y2,x1:x2]\n",
    "            \n",
    "            if np.average(img_box)<150:\n",
    "                qr_reconstruct[y1:y2,x1:x2]=0\n",
    "            else:\n",
    "                qr_reconstruct[y1:y2,x1:x2]=255\n",
    "\n",
    "    for x in range(size_of_grid):\n",
    "        p1 = (round(x*width/size_of_grid),0)\n",
    "        p2 = (round(x*width/size_of_grid),height)\n",
    "        cv2.line(img_grid,p1,p2,(255),1)\n",
    "\n",
    "    for y in range(size_of_grid):\n",
    "        p1 = (0,round(y*height/size_of_grid))\n",
    "        p2 = (width,round(y*height/size_of_grid))\n",
    "        cv2.line(img_grid,p1,p2,(255),1)  \n",
    "    \n",
    "#     cv2.imwrite(\"img_grid.jpg\", img_grid)\n",
    "#     cv2.imwrite(\"qrcode_reconstruction.jpg\", 255*qr_reconstruct)\n",
    "    cv2.imshow('QRcode Reconstruction',qr_reconstruct)\n",
    "    cv2.waitKey()\n",
    "    cv2.destroyAllWindows()\n"
   ]
  },
  {
   "cell_type": "code",
   "execution_count": 2,
   "id": "a7f3d6d1",
   "metadata": {},
   "outputs": [],
   "source": [
    "img_path = \"experience/experience_clear_img/images_processed_120/1_thidang_120.jpg\"\n",
    "reconstruct_qr(img_path, size_of_image=500, size_of_grid=300)"
   ]
  },
  {
   "cell_type": "markdown",
   "id": "bfbe369d",
   "metadata": {},
   "source": [
    "# 3. Experience to process QRcode\n"
   ]
  },
  {
   "cell_type": "code",
   "execution_count": null,
   "id": "ddffafa5",
   "metadata": {},
   "outputs": [],
   "source": [
    "import cv2\n",
    "\n",
    "image = cv2.imread(\"images_after_detect/6.jpg\")\n",
    "image_hsv = cv2.cvtColor(image, cv2.COLOR_BGR2HSV)"
   ]
  },
  {
   "cell_type": "code",
   "execution_count": null,
   "id": "f6a793aa",
   "metadata": {},
   "outputs": [],
   "source": [
    "import numpy as np\n",
    "import matplotlib.pyplot as plt\n",
    "from PIL import Image\n",
    "\n",
    "im = np.array(Image.open(\"images_after_detect/6.jpg\"))\n",
    "\n",
    "plt.imshow(im)\n",
    "plt.show()"
   ]
  },
  {
   "cell_type": "code",
   "execution_count": null,
   "id": "457ce7ca",
   "metadata": {},
   "outputs": [],
   "source": [
    "import cv2\n",
    "\n",
    "img = cv2.imread(\"images_after_detect/6.jpg\")\n",
    "hsv = cv2.cvtColor(img, cv2.COLOR_BGR2HSV)\n",
    "mask = cv2.inRange(hsv,(10, 100, 20), (25, 255, 255) )\n",
    "cv2.imshow(\"orange\", mask)\n",
    "cv2.waitKey()\n",
    "cv2.destroyAllWindows()"
   ]
  },
  {
   "cell_type": "code",
   "execution_count": null,
   "id": "d300a0aa",
   "metadata": {},
   "outputs": [],
   "source": [
    "import cv2\n",
    "\n",
    "# Read and convert to hsv\n",
    "img = cv2.imread(\"images_after_detect/6.jpg\")\n",
    "img_hsv = cv2.cvtColor(img, cv2.COLOR_BGR2HSV)\n",
    "\n",
    "# mask of white\n",
    "mask_white = cv2.inRange(img_hsv, (0, 0, 255), (255, 18,255))\n",
    "\n",
    "# mask of black\n",
    "mask_black = cv2.inRange(img_hsv, (0,0,0), (350, 55, 100))\n",
    "\n",
    "## final mask and masked\n",
    "mask = cv2.bitwise_or(mask_white, mask_black)\n",
    "target = cv2.bitwise_and(img,img, mask=mask)\n",
    "\n",
    "cv2.imshow(\"image_mask\", target)\n",
    "cv2.imwrite(\"img_mask.jpg\", target)\n",
    "\n",
    "cv2.waitKey()\n",
    "cv2.destroyAllWindows()\n"
   ]
  },
  {
   "cell_type": "code",
   "execution_count": null,
   "id": "773e26db",
   "metadata": {},
   "outputs": [],
   "source": [
    "    low = np.array([0, 42, 0])\n",
    "    high = np.array([179, 255, 255])\n",
    "    mask = cv2.inRange(hsv_frame, low, high)\n",
    "    result = cv2.bitwise_and(frame, frame, mask=mask)"
   ]
  },
  {
   "cell_type": "code",
   "execution_count": null,
   "id": "730ac525",
   "metadata": {},
   "outputs": [],
   "source": [
    "\n",
    "import cv2\n",
    "src = cv2.imread(\"images_after_detect/6.jpg\");\n",
    "# th, dst = cv2.threshold(src, 90, 255, cv2.THRESH_BINARY);\n",
    "\n",
    "cv2.imshow(\"image_mask\", src)\n",
    "# cv2.imwrite(\"image_mask.jpg\", dst)\n",
    "cv2.waitKey()\n",
    "cv2.destroyAllWindows()"
   ]
  },
  {
   "cell_type": "markdown",
   "id": "7dc380b3",
   "metadata": {},
   "source": [
    "# 4. Experience with clear images\n"
   ]
  },
  {
   "cell_type": "markdown",
   "id": "0f0f1803",
   "metadata": {},
   "source": [
    "## 4.1 Detect QR"
   ]
  },
  {
   "cell_type": "markdown",
   "id": "37144cb2",
   "metadata": {},
   "source": [
    "### 4.1.1. Old version"
   ]
  },
  {
   "cell_type": "code",
   "execution_count": 28,
   "id": "85b775ec",
   "metadata": {},
   "outputs": [],
   "source": [
    "import os\n",
    "import cv2\n",
    "\n",
    "def detect_qr(input_path_folder, output_path_folder, padding):\n",
    "    \n",
    "    for filename in os.listdir(input_path_folder):\n",
    "        # Process imgae, grayscale, Gaussian blur, Otsu's threshold\n",
    "        image = cv2.imread(input_path_folder + \"/\" + filename)\n",
    "        name_img = os.path.splitext(filename)[0]\n",
    "        \n",
    "        original = image.copy()\n",
    "        gray = cv2.cvtColor(image, cv2.COLOR_BGR2GRAY)\n",
    "        blur = cv2.GaussianBlur(gray, (9,9), 0)\n",
    "        thresh = cv2.threshold(blur, 0, 255, cv2.THRESH_BINARY_INV + cv2.THRESH_OTSU)[1]\n",
    "\n",
    "        # Morph close\n",
    "        kernel = cv2.getStructuringElement(cv2.MORPH_RECT, (5,5))\n",
    "        close = cv2.morphologyEx(thresh, cv2.MORPH_CLOSE, kernel, iterations=2)\n",
    "\n",
    "        # Find contours and filter for QR code\n",
    "        cnts = cv2.findContours(close, cv2.RETR_EXTERNAL, cv2.CHAIN_APPROX_SIMPLE)\n",
    "        cnts = cnts[0] if len(cnts) == 2 else cnts[1]\n",
    "        for c in cnts:\n",
    "            peri = cv2.arcLength(c, True)\n",
    "            approx = cv2.approxPolyDP(c, 0.04 * peri, True)\n",
    "            x,y,w,h = cv2.boundingRect(approx)\n",
    "            \n",
    "            area = cv2.contourArea(c)\n",
    "            ar = w / float(h)\n",
    "            if len(approx) == 4 and area > 1000 and (ar > .85 and ar < 1.3):\n",
    "                cv2.rectangle(image, (x, y), (x + w, y + h), (36,255,12), 3)\n",
    "                #Crop and add padding\n",
    "                padding = int((x+w)*padding)\n",
    "                print(padding)\n",
    "                ROI = original[y-padding:y+padding+h, x-padding:x+padding+w]\n",
    "                \n",
    "                cv2.imwrite(f\"{output_path_folder}/{name_img}.jpg\", ROI)\n",
    "    \n",
    "                "
   ]
  },
  {
   "cell_type": "code",
   "execution_count": 30,
   "id": "4cafb01c",
   "metadata": {},
   "outputs": [
    {
     "name": "stdout",
     "output_type": "stream",
     "text": [
      "138\n"
     ]
    },
    {
     "ename": "error",
     "evalue": "OpenCV(4.5.5) /io/opencv/modules/imgcodecs/src/loadsave.cpp:801: error: (-215:Assertion failed) !_img.empty() in function 'imwrite'\n",
     "output_type": "error",
     "traceback": [
      "\u001b[0;31m---------------------------------------------------------------------------\u001b[0m",
      "\u001b[0;31merror\u001b[0m                                     Traceback (most recent call last)",
      "\u001b[0;32m<ipython-input-30-29777aa8eb76>\u001b[0m in \u001b[0;36m<module>\u001b[0;34m\u001b[0m\n\u001b[0;32m----> 1\u001b[0;31m detect_qr(input_path_folder='../id_card/Clear', \n\u001b[0m\u001b[1;32m      2\u001b[0m           \u001b[0moutput_path_folder\u001b[0m\u001b[0;34m=\u001b[0m\u001b[0;34m\"../id_card/after_detected\"\u001b[0m\u001b[0;34m,\u001b[0m\u001b[0;34m\u001b[0m\u001b[0;34m\u001b[0m\u001b[0m\n\u001b[1;32m      3\u001b[0m          padding=0.1)\n",
      "\u001b[0;32m<ipython-input-28-9a039fbc71eb>\u001b[0m in \u001b[0;36mdetect_qr\u001b[0;34m(input_path_folder, output_path_folder, padding)\u001b[0m\n\u001b[1;32m     35\u001b[0m                 \u001b[0mROI\u001b[0m \u001b[0;34m=\u001b[0m \u001b[0moriginal\u001b[0m\u001b[0;34m[\u001b[0m\u001b[0my\u001b[0m\u001b[0;34m-\u001b[0m\u001b[0mpadding\u001b[0m\u001b[0;34m:\u001b[0m\u001b[0my\u001b[0m\u001b[0;34m+\u001b[0m\u001b[0mpadding\u001b[0m\u001b[0;34m+\u001b[0m\u001b[0mh\u001b[0m\u001b[0;34m,\u001b[0m \u001b[0mx\u001b[0m\u001b[0;34m-\u001b[0m\u001b[0mpadding\u001b[0m\u001b[0;34m:\u001b[0m\u001b[0mx\u001b[0m\u001b[0;34m+\u001b[0m\u001b[0mpadding\u001b[0m\u001b[0;34m+\u001b[0m\u001b[0mw\u001b[0m\u001b[0;34m]\u001b[0m\u001b[0;34m\u001b[0m\u001b[0;34m\u001b[0m\u001b[0m\n\u001b[1;32m     36\u001b[0m \u001b[0;34m\u001b[0m\u001b[0m\n\u001b[0;32m---> 37\u001b[0;31m                 \u001b[0mcv2\u001b[0m\u001b[0;34m.\u001b[0m\u001b[0mimwrite\u001b[0m\u001b[0;34m(\u001b[0m\u001b[0;34mf\"{output_path_folder}/{name_img}.jpg\"\u001b[0m\u001b[0;34m,\u001b[0m \u001b[0mROI\u001b[0m\u001b[0;34m)\u001b[0m\u001b[0;34m\u001b[0m\u001b[0;34m\u001b[0m\u001b[0m\n\u001b[0m\u001b[1;32m     38\u001b[0m \u001b[0;34m\u001b[0m\u001b[0m\n\u001b[1;32m     39\u001b[0m \u001b[0;34m\u001b[0m\u001b[0m\n",
      "\u001b[0;31merror\u001b[0m: OpenCV(4.5.5) /io/opencv/modules/imgcodecs/src/loadsave.cpp:801: error: (-215:Assertion failed) !_img.empty() in function 'imwrite'\n"
     ]
    }
   ],
   "source": [
    "detect_qr(input_path_folder='../id_card/Clear', \n",
    "          output_path_folder=\"../id_card/after_detected\",\n",
    "         padding=0.1)"
   ]
  },
  {
   "cell_type": "markdown",
   "id": "c6e2395e",
   "metadata": {},
   "source": [
    "### 4.1.2. Optimized version"
   ]
  },
  {
   "cell_type": "code",
   "execution_count": 8,
   "id": "31ed0ada",
   "metadata": {},
   "outputs": [],
   "source": [
    "import os\n",
    "import cv2\n",
    "\n",
    "def detect_qr(input_path_folder, output_path_folder, padding):\n",
    "    \"\"\"Detect QRcode in image\n",
    "    Args:\n",
    "        input_path_folder: path to the folder containing the image to be detected\n",
    "        output_path_folder: path to the directory containing the output\n",
    "        padding: space between Qrcode and border (pixel)\n",
    "    \"\"\"\n",
    "    for filename in os.listdir(input_path_folder):\n",
    "        # Process imgae, grayscale, Gaussian blur, Otsu's threshold\n",
    "        image = cv2.imread(input_path_folder + \"/\" + filename)\n",
    "        name_img = os.path.splitext(filename)[0]\n",
    "        \n",
    "        original = image.copy()\n",
    "        gray = cv2.cvtColor(image, cv2.COLOR_BGR2GRAY)\n",
    "        blur = cv2.GaussianBlur(gray, (9,9), 0)\n",
    "        thresh = cv2.threshold(blur, 0, 255, cv2.THRESH_BINARY_INV + cv2.THRESH_OTSU)[1]\n",
    "\n",
    "        # Morph close\n",
    "        kernel = cv2.getStructuringElement(cv2.MORPH_RECT, (5,5))\n",
    "        close = cv2.morphologyEx(thresh, cv2.MORPH_CLOSE, kernel, iterations=2)\n",
    "\n",
    "        # Find contours and filter for QR code\n",
    "        cnts = cv2.findContours(close, cv2.RETR_EXTERNAL, cv2.CHAIN_APPROX_SIMPLE)\n",
    "        cnts = cnts[0] if len(cnts) == 2 else cnts[1]\n",
    "        for c in cnts:\n",
    "            peri = cv2.arcLength(c, True)\n",
    "            approx = cv2.approxPolyDP(c, 0.04 * peri, True)\n",
    "            x,y,w,h = cv2.boundingRect(approx)\n",
    "            \n",
    "            area = cv2.contourArea(c)\n",
    "            ar = w / float(h)\n",
    "            if len(approx) == 4 and area > 1000 and (ar > .85 and ar < 1.3):\n",
    "                cv2.rectangle(image, (x, y), (x + w, y + h), (36,255,12), 3)\n",
    "                # Crop and add padding\n",
    "                ROI = original[y:y+h, x:x+w]\n",
    "                padding = int(ROI.shape[0]*padding)\n",
    "                ROI = original[y-padding:y+padding+h, x-padding:x+padding+w]\n",
    "                if ROI.size > 0 :\n",
    "                    # Check output path\n",
    "                    isExist = os.path.exists(output_path_folder)\n",
    "                    if not isExist:\n",
    "                        os.makedirs(output_path_folder)\n",
    "                        cv2.imwrite(f\"{output_path_folder}/{name_img}.jpg\", ROI)\n",
    "                    else:\n",
    "                        cv2.imwrite(f\"{output_path_folder}/{name_img}.jpg\", ROI)\n",
    "                else:\n",
    "                    print(name_img)"
   ]
  },
  {
   "cell_type": "code",
   "execution_count": 9,
   "id": "bcf54ffb",
   "metadata": {},
   "outputs": [],
   "source": [
    "detect_qr(input_path_folder='../experience/img', \n",
    "          output_path_folder=\"../experience/2_apply_interpolation/img_after_detected\",\n",
    "          padding=0)"
   ]
  },
  {
   "cell_type": "markdown",
   "id": "16a03516",
   "metadata": {},
   "source": [
    "## 4.2. Process QRCode"
   ]
  },
  {
   "cell_type": "markdown",
   "id": "7c91772b",
   "metadata": {},
   "source": [
    "### 4.2.1. Process QRcode (old version)\n",
    "- Simple process\n",
    "- Not rotate \n",
    "- Resize function separation"
   ]
  },
  {
   "cell_type": "code",
   "execution_count": null,
   "id": "c6da453e",
   "metadata": {},
   "outputs": [],
   "source": [
    "import numpy as np \n",
    "import cv2\n",
    "import os\n",
    "\n",
    "def process_image(input_path_folder, output_path_folder, thresh):\n",
    "    # Get name file in folder\n",
    "    for index, filename in enumerate(os.listdir(input_path_folder)):\n",
    "\n",
    "        # load image\n",
    "        img = cv2.imread(input_path_folder + \"/\" + filename)\n",
    "#         img = cv2.resize(img, (700,700))\n",
    "        name_img = os.path.splitext(filename)[0]\n",
    "        # Convert BGR to HSV\n",
    "        hsv = cv2.cvtColor(img, cv2.COLOR_BGR2HSV)\n",
    "\n",
    "        # define range of black color in HSV\n",
    "        lower_val = np.array([0,0,0])\n",
    "        \n",
    "        upper_val = np.array([179,255,thresh])\n",
    "        \n",
    "        # Threshold the HSV image to get only black colors\n",
    "        mask = cv2.inRange(hsv, lower_val, upper_val)\n",
    "        # mask2 = cv2.inRange(hsv, lower_val, upper_val2)\n",
    "\n",
    "        # invert mask to get black symbols on white background\n",
    "        mask_inv = cv2.bitwise_not(mask)\n",
    "        # mask_inv2 = cv2.bitwise_not(mask2)\n",
    "        \n",
    "        cv2.imwrite(f\"{output_path_folder}/{name_img}_{thresh}.jpg\", mask_inv)\n",
    "        cv2.waitKey(0)\n",
    "        cv2.destroyAllWindows()"
   ]
  },
  {
   "cell_type": "code",
   "execution_count": null,
   "id": "c1d41ac8",
   "metadata": {},
   "outputs": [],
   "source": [
    "process_image(input_path_folder=\"experience/experience_resize/images_after_detected\",\n",
    "              output_path_folder=\"experience/experience_resize/images_after_processed_100\",\n",
    "              thresh=100)"
   ]
  },
  {
   "cell_type": "markdown",
   "id": "86fc400e",
   "metadata": {},
   "source": [
    "### 4.2.2 Process QRcode (optimized version)\n"
   ]
  },
  {
   "cell_type": "code",
   "execution_count": null,
   "id": "0b231d43",
   "metadata": {},
   "outputs": [],
   "source": [
    "import numpy as np \n",
    "import cv2\n",
    "import os\n",
    "from PIL import Image\n",
    "import math\n",
    "\n",
    "def get_coor(input_path):\n",
    "    \"\"\"Get coordinates of top left corner and top right corner of qrcode\n",
    "    \"\"\"\n",
    "    image = cv2.imread(input_path)\n",
    "    h,w = image.shape[:2]\n",
    "    list_coor_x = []\n",
    "    list_coor_y = []\n",
    "\n",
    "    for x in range(0,w,15):\n",
    "        for y in range(round(h/10)):\n",
    "            x1,y1 =  (x,y)\n",
    "            x2,y2 = (x1+1, y1+1)\n",
    "            image_box = image[y1:y2, x1:x2]\n",
    "            if np.average(image_box) == 0:\n",
    "                list_coor_x.append(x1)\n",
    "                list_coor_y.append(y1)\n",
    "                break\n",
    "    return list_coor_x, list_coor_y\n",
    "\n",
    "def dot(vA, vB):\n",
    "    return vA[0]*vB[0]+vA[1]*vB[1]\n",
    "\n",
    "def calculate_angle(lineA, lineB):\n",
    "    # Get nicer vector form\n",
    "    vA = [(lineA[0][0]-lineA[1][0]), (lineA[0][1]-lineA[1][1])]\n",
    "    vB = [(lineB[0][0]-lineB[1][0]), (lineB[0][1]-lineB[1][1])]\n",
    "    # Get dot prod\n",
    "    dot_prod = dot(vA, vB)\n",
    "    # Get magnitudes\n",
    "    magA = dot(vA, vA)**0.5\n",
    "    magB = dot(vB, vB)**0.5\n",
    "    # Get cosine value\n",
    "    cos_ = dot_prod/magA/magB\n",
    "    # Get angle in radians and then convert to degrees\n",
    "    angle = math.acos(dot_prod/magB/magA)\n",
    "    # Basically doing angle <- angle mod 360\n",
    "    ang_deg = math.degrees(angle)%360\n",
    "    \n",
    "    if ang_deg-180>=0:\n",
    "        # As in if statement\n",
    "        return 360 - ang_deg\n",
    "    else: \n",
    "        \n",
    "        return ang_deg\n",
    "\n",
    "def rotate_image(image):\n",
    "    \n",
    "    # Get coordinate to draw skew line\n",
    "    list_coor_x, list_coor_y = get_coor(image)\n",
    "    line_skew = ( (list_coor_x[0], list_coor_y[0]) , (list_coor_x[-1], list_coor_y[-1]) )\n",
    "    line_straight = ( (list_coor_x[0], 0), (list_coor_x[-1], 0) )\n",
    "    \n",
    "    # Calculate angle of two lines\n",
    "    angle = calculate_angle(line_skew,line_straight)\n",
    "    \n",
    "    # Rotate Image\n",
    "    if list_coor_y[0] > list_coor_y[-1]:\n",
    "        img = img.rotate(-angle,fillcolor=255)\n",
    "        return img\n",
    "    elif list_coor_y[0] < list_coor_y[-1]:\n",
    "        img = img.rotate(angle,fillcolor=255) \n",
    "        return img\n",
    "    else:\n",
    "        print(\"Error\")    \n",
    "        \n",
    "def process_qrcode(input_path_folder, output_path_folder, thresh, size=None, rotate=True):\n",
    "    \"\"\"Convert images to black and white with different thresholds and can customize the output size of the image\n",
    "    Args:\n",
    "        input_path_folder: path to the folder containing the image to be processed\n",
    "        output_path_folder: path to the directory containing the output \n",
    "        thresh: thresholds for converting an image to a black and white image\n",
    "        size: size of output image and need square size. Default is None\n",
    "        rotate: rotate image. Default is True\n",
    "    \"\"\"\n",
    "    \n",
    "    # Get name file in folder\n",
    "    for index, filename in enumerate(os.listdir(input_path_folder)):\n",
    "\n",
    "        # Load image\n",
    "        img = cv2.imread(input_path_folder + \"/\" + filename)\n",
    "\n",
    "        name_img = os.path.splitext(filename)[0]\n",
    "        # Convert BGR to HSV\n",
    "        hsv = cv2.cvtColor(img, cv2.COLOR_BGR2HSV)\n",
    "\n",
    "        # Define range of black color in HSV\n",
    "        lower_val = np.array([0,0,0])\n",
    "        upper_val = np.array([179,255,thresh])\n",
    "        \n",
    "        # Threshold the HSV image to get only black colors\n",
    "        mask = cv2.inRange(hsv, lower_val, upper_val)\n",
    "\n",
    "        # Invert mask to get black symbols on white background\n",
    "        mask_inv = cv2.bitwise_not(mask)\n",
    "        \n",
    "        # Resize image\n",
    "        if size is not None:\n",
    "            mask_inv = cv2.resize(mask_inv, (size,size))\n",
    "        \n",
    "        # Check path\n",
    "        isExist = os.path.exists(output_path_folder)\n",
    "        if not isExist:\n",
    "            os.makedirs(output_path_folder)\n",
    "            cv2.imwrite(f\"{output_path_folder}/{name_img}_thresh_{thresh}.jpg\", mask_inv)\n",
    "        else:\n",
    "            cv2.imwrite(f\"{output_path_folder}/{name_img}_thresh_{thresh}.jpg\", mask_inv)\n",
    "        \n",
    "     \n",
    "        # Rotate Image\n",
    "        if rotate:\n",
    "            # Get coordinate to draw skew line\n",
    "            path = f\"{output_path_folder}/{name_img}_thresh_{thresh}.jpg\"\n",
    "            list_coor_x, list_coor_y = get_coor(path)\n",
    "            line_skew = ( (list_coor_x[0], list_coor_y[0]) , (list_coor_x[-1], list_coor_y[-1]) )\n",
    "            line_straight = ( (list_coor_x[0], 0), (list_coor_x[-1], 0) )\n",
    "            \n",
    "            # Calculate angle of two lines\n",
    "            angle = calculate_angle(line_skew,line_straight)\n",
    "            \n",
    "            # Rotate Image\n",
    "            img = Image.open(path)\n",
    "            if list_coor_y[0] > list_coor_y[-1]:\n",
    "                img = img.rotate(-angle,fillcolor=255)\n",
    "            elif list_coor_y[0] < list_coor_y[-1]:\n",
    "                img = img.rotate(angle,fillcolor=255) \n",
    "\n",
    "            # Check path\n",
    "            isExist = os.path.exists(output_path_folder)\n",
    "            if not isExist:\n",
    "                os.makedirs(output_path_folder)\n",
    "                img.save(f\"{output_path_folder}/{name_img}_thresh_{thresh}.jpg\")\n",
    "            else:\n",
    "                img.save(f\"{output_path_folder}/{name_img}_thresh_{thresh}.jpg\")"
   ]
  },
  {
   "cell_type": "code",
   "execution_count": null,
   "id": "badf5f7e",
   "metadata": {},
   "outputs": [],
   "source": [
    "process_qrcode(input_path_folder=\"images_after_detect\",\n",
    "               output_path_folder=\"images_after_processed\",\n",
    "               thresh=100,\n",
    "               rotate=True)"
   ]
  },
  {
   "cell_type": "markdown",
   "id": "500ba918",
   "metadata": {},
   "source": [
    "## 4.3. Resize QRCode (test code)"
   ]
  },
  {
   "cell_type": "code",
   "execution_count": null,
   "id": "6799fe41",
   "metadata": {},
   "outputs": [],
   "source": [
    "def resize_qr(input_path_folder, output_path, size):\n",
    "    for filename in os.listdir(input_path_folder):\n",
    "        img = cv2.imread(input_path_folder + \"/\" + filename)\n",
    "        name_img = os.path.splitext(filename)[0]\n",
    "        img = cv2.resize(img, (size,size))\n",
    "        cv2.imwrite(f\"{output_path}/{name_img}_{size}.jpg\", img)"
   ]
  },
  {
   "cell_type": "code",
   "execution_count": null,
   "id": "b1544109",
   "metadata": {},
   "outputs": [],
   "source": [
    "resize_qr(input_path_folder=\"experience/experience_resize/images_after_processed_110\",\n",
    "          output_path=\"experience/experience_resize/images_after_resized_110/images_after_resized_800\",\n",
    "          size=800)"
   ]
  },
  {
   "cell_type": "markdown",
   "id": "39abed89",
   "metadata": {},
   "source": [
    "## 4.4. Read QRCode"
   ]
  },
  {
   "cell_type": "code",
   "execution_count": 13,
   "id": "11f851cb",
   "metadata": {},
   "outputs": [
    {
     "data": {
      "text/plain": [
       "'/home/dsoft/Desktop/SRGAN-PyTorch-modified/experience'"
      ]
     },
     "execution_count": 13,
     "metadata": {},
     "output_type": "execute_result"
    }
   ],
   "source": [
    "pwd"
   ]
  },
  {
   "cell_type": "code",
   "execution_count": 6,
   "id": "c6a6acb1",
   "metadata": {},
   "outputs": [],
   "source": [
    "import cv2\n",
    "import os\n",
    "from PIL import Image\n",
    "from pyzxing import BarCodeReader\n",
    "\n",
    "def read_qrcode(path_folder):\n",
    "    \"\"\"Decode QRcode and return data in QRcode\n",
    "    \"\"\"\n",
    "    for filename in os.listdir(path_folder): \n",
    "        name_img = os.path.splitext(filename)[0]\n",
    "        if name_img != \"output\":\n",
    "            reader = BarCodeReader()\n",
    "            qrcode = reader.decode(path_folder + \"/\" + filename)\n",
    "            if qrcode == None  or \"raw\" not in qrcode[0]:\n",
    "                text_write = filename + \"--->\" + \"Fail\"\n",
    "                print(text_write)\n",
    "            else:\n",
    "                data = qrcode[0]['raw'].decode('utf8')\n",
    "                text_write = filename + \"-->\" + data\n",
    "                print(text_write)"
   ]
  },
  {
   "cell_type": "code",
   "execution_count": 7,
   "id": "0c4ac302",
   "metadata": {},
   "outputs": [
    {
     "name": "stdout",
     "output_type": "stream",
     "text": [
      "7_vanphuc_nearest.jpg-->046091011136|191725061|Lê Văn Phúc|03101991|Nam|Thôn 1, Phú Sơn, Hương Thủy, Thừa Thiên Huế|10052021\n",
      "3_vanduc_nearest.jpg--->Fail\n",
      "4_baduy_nearest.jpg-->046086000649|025679036|Phan Bá Duy|10101986|Nam|Thôn 1, Phú Sơn, Hương Thủy, Thừa Thiên Huế|02042021\n",
      "2_quangchien_nearest.jpg-->046073012631|191366600|Nguyễn Quang Chiến|30051973|Nam|Thôn 3, Phú Sơn, Hương Thủy, Thừa Thiên Huế|10052021\n",
      "id11_thidiep_nearest.jpg-->046186007829|191605421|Nguyễn Thị Điệp|16061986|Nữ|Thôn 1, Phú Sơn, Hương Thủy, Thừa Thiên Huế|10052021\n",
      "5_thanhsu_nearest.jpg-->046095004657|192095039|La Thanh Sự|14011995|Nam|Thôn 1, Phú Sơn, Hương Thủy, Thừa Thiên Huế|10052021\n",
      "id9_thimai_nearest.jpg-->094300008389|366303940|Trần Thị Mãi|04052000|Nữ|Thôn 1, Phú Sơn, Hương Thủy, Thừa Thiên Huế|10052021\n",
      "1_thidang_nearest.jpg-->046168010422|191090471|Nguyễn Thị Đắng|13051968|Nữ|Thôn 2, Phú Sơn, Hương Thủy, Thừa Thiên Huế|10052021\n",
      "id8_thinhan_nearest.jpg--->Fail\n",
      "6_thinguyet_nearest.jpg-->046181010279|191515978|Lê Thị Nguyệt|12071981|Nữ|Thôn 2, Phú Sơn, Hương Thủy, Thừa Thiên Huế|09082021\n",
      "id10_trana_nearest.jpg-->046054008535|191090645|Trần A|13021954|Nam|Thôn 1, Phú Sơn, Hương Thủy, Thừa Thiên Huế|10052021\n"
     ]
    }
   ],
   "source": [
    "read_qrcode('../experience/2_apply_interpolation/img_after_resize')"
   ]
  },
  {
   "cell_type": "code",
   "execution_count": 10,
   "id": "4084fbf5",
   "metadata": {},
   "outputs": [
    {
     "ename": "FileNotFoundError",
     "evalue": "[Errno 2] No such file or directory: 'images_after_detected/after_super'",
     "output_type": "error",
     "traceback": [
      "\u001b[0;31m---------------------------------------------------------------------------\u001b[0m",
      "\u001b[0;31mFileNotFoundError\u001b[0m                         Traceback (most recent call last)",
      "\u001b[0;32m<ipython-input-10-dd3169fa4cbc>\u001b[0m in \u001b[0;36m<module>\u001b[0;34m\u001b[0m\n\u001b[0;32m----> 1\u001b[0;31m \u001b[0mread_qrcode\u001b[0m\u001b[0;34m(\u001b[0m\u001b[0;34m'images_after_detected/after_super'\u001b[0m\u001b[0;34m)\u001b[0m\u001b[0;34m\u001b[0m\u001b[0;34m\u001b[0m\u001b[0m\n\u001b[0m",
      "\u001b[0;32m<ipython-input-8-4434c64d879c>\u001b[0m in \u001b[0;36mread_qrcode\u001b[0;34m(path_folder)\u001b[0m\n\u001b[1;32m      7\u001b[0m     \"\"\"Decode QRcode and return data in QRcode\n\u001b[1;32m      8\u001b[0m     \"\"\"\n\u001b[0;32m----> 9\u001b[0;31m     \u001b[0;32mfor\u001b[0m \u001b[0mfilename\u001b[0m \u001b[0;32min\u001b[0m \u001b[0mos\u001b[0m\u001b[0;34m.\u001b[0m\u001b[0mlistdir\u001b[0m\u001b[0;34m(\u001b[0m\u001b[0mpath_folder\u001b[0m\u001b[0;34m)\u001b[0m\u001b[0;34m:\u001b[0m\u001b[0;34m\u001b[0m\u001b[0;34m\u001b[0m\u001b[0m\n\u001b[0m\u001b[1;32m     10\u001b[0m         \u001b[0mname_img\u001b[0m \u001b[0;34m=\u001b[0m \u001b[0mos\u001b[0m\u001b[0;34m.\u001b[0m\u001b[0mpath\u001b[0m\u001b[0;34m.\u001b[0m\u001b[0msplitext\u001b[0m\u001b[0;34m(\u001b[0m\u001b[0mfilename\u001b[0m\u001b[0;34m)\u001b[0m\u001b[0;34m[\u001b[0m\u001b[0;36m0\u001b[0m\u001b[0;34m]\u001b[0m\u001b[0;34m\u001b[0m\u001b[0;34m\u001b[0m\u001b[0m\n\u001b[1;32m     11\u001b[0m         \u001b[0;32mif\u001b[0m \u001b[0mname_img\u001b[0m \u001b[0;34m!=\u001b[0m \u001b[0;34m\"output\"\u001b[0m\u001b[0;34m:\u001b[0m\u001b[0;34m\u001b[0m\u001b[0;34m\u001b[0m\u001b[0m\n",
      "\u001b[0;31mFileNotFoundError\u001b[0m: [Errno 2] No such file or directory: 'images_after_detected/after_super'"
     ]
    }
   ],
   "source": [
    "read_qrcode('images_after_detected/after_super')"
   ]
  },
  {
   "cell_type": "code",
   "execution_count": 3,
   "id": "ff3aafe5",
   "metadata": {},
   "outputs": [
    {
     "name": "stdout",
     "output_type": "stream",
     "text": [
      "id9_thimai.jpg--->Fail\n",
      "id8_thinhan.jpg--->Fail\n",
      "6_thinguyet.jpg--->Fail\n",
      "5_thanhsu.jpg--->Fail\n",
      "id11_thidiep.jpg--->Fail\n",
      "id10_trana.jpg--->Fail\n",
      "2_quangchien.jpg--->Fail\n",
      "4_baduy.jpg-->046086000649|025679036|Phan Bá Duy|10101986|Nam|Thôn 1, Phú Sơn, Hương Thủy, Thừa Thiên Huế|02042021\n",
      "7_vanphuc.jpg-->046091011136|191725061|Lê Văn Phúc|03101991|Nam|Thôn 1, Phú Sơn, Hương Thủy, Thừa Thiên Huế|10052021\n",
      "1_thidang.jpg--->Fail\n",
      "3_vanduc.jpg--->Fail\n"
     ]
    }
   ],
   "source": [
    "read_qrcode('experience/img_after_detected')"
   ]
  },
  {
   "cell_type": "code",
   "execution_count": 11,
   "id": "434f2169",
   "metadata": {},
   "outputs": [
    {
     "ename": "FileNotFoundError",
     "evalue": "[Errno 2] No such file or directory: 'experience/img_after_detected_no_border'",
     "output_type": "error",
     "traceback": [
      "\u001b[0;31m---------------------------------------------------------------------------\u001b[0m",
      "\u001b[0;31mFileNotFoundError\u001b[0m                         Traceback (most recent call last)",
      "\u001b[0;32m<ipython-input-11-f83a9f8371c4>\u001b[0m in \u001b[0;36m<module>\u001b[0;34m\u001b[0m\n\u001b[0;32m----> 1\u001b[0;31m \u001b[0mread_qrcode\u001b[0m\u001b[0;34m(\u001b[0m\u001b[0;34m\"experience/img_after_detected_no_border\"\u001b[0m\u001b[0;34m)\u001b[0m\u001b[0;34m\u001b[0m\u001b[0;34m\u001b[0m\u001b[0m\n\u001b[0m",
      "\u001b[0;32m<ipython-input-8-4434c64d879c>\u001b[0m in \u001b[0;36mread_qrcode\u001b[0;34m(path_folder)\u001b[0m\n\u001b[1;32m      7\u001b[0m     \"\"\"Decode QRcode and return data in QRcode\n\u001b[1;32m      8\u001b[0m     \"\"\"\n\u001b[0;32m----> 9\u001b[0;31m     \u001b[0;32mfor\u001b[0m \u001b[0mfilename\u001b[0m \u001b[0;32min\u001b[0m \u001b[0mos\u001b[0m\u001b[0;34m.\u001b[0m\u001b[0mlistdir\u001b[0m\u001b[0;34m(\u001b[0m\u001b[0mpath_folder\u001b[0m\u001b[0;34m)\u001b[0m\u001b[0;34m:\u001b[0m\u001b[0;34m\u001b[0m\u001b[0;34m\u001b[0m\u001b[0m\n\u001b[0m\u001b[1;32m     10\u001b[0m         \u001b[0mname_img\u001b[0m \u001b[0;34m=\u001b[0m \u001b[0mos\u001b[0m\u001b[0;34m.\u001b[0m\u001b[0mpath\u001b[0m\u001b[0;34m.\u001b[0m\u001b[0msplitext\u001b[0m\u001b[0;34m(\u001b[0m\u001b[0mfilename\u001b[0m\u001b[0;34m)\u001b[0m\u001b[0;34m[\u001b[0m\u001b[0;36m0\u001b[0m\u001b[0;34m]\u001b[0m\u001b[0;34m\u001b[0m\u001b[0;34m\u001b[0m\u001b[0m\n\u001b[1;32m     11\u001b[0m         \u001b[0;32mif\u001b[0m \u001b[0mname_img\u001b[0m \u001b[0;34m!=\u001b[0m \u001b[0;34m\"output\"\u001b[0m\u001b[0;34m:\u001b[0m\u001b[0;34m\u001b[0m\u001b[0;34m\u001b[0m\u001b[0m\n",
      "\u001b[0;31mFileNotFoundError\u001b[0m: [Errno 2] No such file or directory: 'experience/img_after_detected_no_border'"
     ]
    }
   ],
   "source": [
    "read_qrcode(\"experience/img_after_detected_no_border\")"
   ]
  },
  {
   "cell_type": "code",
   "execution_count": 12,
   "id": "a03e75fa",
   "metadata": {},
   "outputs": [
    {
     "ename": "FileNotFoundError",
     "evalue": "[Errno 2] No such file or directory: 'experience/have_resolution/img_after_detected_no_border'",
     "output_type": "error",
     "traceback": [
      "\u001b[0;31m---------------------------------------------------------------------------\u001b[0m",
      "\u001b[0;31mFileNotFoundError\u001b[0m                         Traceback (most recent call last)",
      "\u001b[0;32m<ipython-input-12-af81ab98b5e1>\u001b[0m in \u001b[0;36m<module>\u001b[0;34m\u001b[0m\n\u001b[0;32m----> 1\u001b[0;31m \u001b[0mread_qrcode\u001b[0m\u001b[0;34m(\u001b[0m\u001b[0;34m\"experience/have_resolution/img_after_detected_no_border\"\u001b[0m\u001b[0;34m)\u001b[0m\u001b[0;34m\u001b[0m\u001b[0;34m\u001b[0m\u001b[0m\n\u001b[0m",
      "\u001b[0;32m<ipython-input-8-4434c64d879c>\u001b[0m in \u001b[0;36mread_qrcode\u001b[0;34m(path_folder)\u001b[0m\n\u001b[1;32m      7\u001b[0m     \"\"\"Decode QRcode and return data in QRcode\n\u001b[1;32m      8\u001b[0m     \"\"\"\n\u001b[0;32m----> 9\u001b[0;31m     \u001b[0;32mfor\u001b[0m \u001b[0mfilename\u001b[0m \u001b[0;32min\u001b[0m \u001b[0mos\u001b[0m\u001b[0;34m.\u001b[0m\u001b[0mlistdir\u001b[0m\u001b[0;34m(\u001b[0m\u001b[0mpath_folder\u001b[0m\u001b[0;34m)\u001b[0m\u001b[0;34m:\u001b[0m\u001b[0;34m\u001b[0m\u001b[0;34m\u001b[0m\u001b[0m\n\u001b[0m\u001b[1;32m     10\u001b[0m         \u001b[0mname_img\u001b[0m \u001b[0;34m=\u001b[0m \u001b[0mos\u001b[0m\u001b[0;34m.\u001b[0m\u001b[0mpath\u001b[0m\u001b[0;34m.\u001b[0m\u001b[0msplitext\u001b[0m\u001b[0;34m(\u001b[0m\u001b[0mfilename\u001b[0m\u001b[0;34m)\u001b[0m\u001b[0;34m[\u001b[0m\u001b[0;36m0\u001b[0m\u001b[0;34m]\u001b[0m\u001b[0;34m\u001b[0m\u001b[0;34m\u001b[0m\u001b[0m\n\u001b[1;32m     11\u001b[0m         \u001b[0;32mif\u001b[0m \u001b[0mname_img\u001b[0m \u001b[0;34m!=\u001b[0m \u001b[0;34m\"output\"\u001b[0m\u001b[0;34m:\u001b[0m\u001b[0;34m\u001b[0m\u001b[0;34m\u001b[0m\u001b[0m\n",
      "\u001b[0;31mFileNotFoundError\u001b[0m: [Errno 2] No such file or directory: 'experience/have_resolution/img_after_detected_no_border'"
     ]
    }
   ],
   "source": [
    "read_qrcode(\"experience/have_resolution/img_after_detected_no_border\")"
   ]
  },
  {
   "cell_type": "markdown",
   "id": "dd47ab39",
   "metadata": {},
   "source": [
    "## 4.5. Align QRCode (test code)"
   ]
  },
  {
   "cell_type": "code",
   "execution_count": null,
   "id": "25bde6d1",
   "metadata": {},
   "outputs": [],
   "source": [
    "import cv2\n",
    "import numpy as np\n",
    "\n",
    "def get_coor(input_path):\n",
    "    image = cv2.imread(input_path)\n",
    "    h,w = image.shape[:2]\n",
    "    list_coor_x = []\n",
    "    list_coor_y = []\n",
    "\n",
    "    for x in range(0,w,15):\n",
    "        for y in range(round(h/10)):\n",
    "            x1,y1 =  (x,y)\n",
    "            x2,y2 = (x1+1, y1+1)\n",
    "            image_box = image[y1:y2, x1:x2]\n",
    "            if np.average(image_box) == 0:\n",
    "                list_coor_x.append(x1)\n",
    "                list_coor_y.append(y1)\n",
    "                break\n",
    "    return list_coor_x, list_coor_y"
   ]
  },
  {
   "cell_type": "code",
   "execution_count": null,
   "id": "4c1c8bfb",
   "metadata": {},
   "outputs": [],
   "source": [
    "list_coor_x, list_coor_y = get_coor(\"experience/experience_resize/images_after_processed_110/1_110.jpg\")"
   ]
  },
  {
   "cell_type": "code",
   "execution_count": null,
   "id": "c2ae95c4",
   "metadata": {},
   "outputs": [],
   "source": [
    "list_coor_x, list_coor_y"
   ]
  },
  {
   "cell_type": "code",
   "execution_count": null,
   "id": "1178bc64",
   "metadata": {},
   "outputs": [],
   "source": [
    "img = cv2.imread(\"experience/experience_resize/images_after_processed_110/quy1_110.jpg\")\n",
    "cv2.imshow(\"img_ori\", img)\n",
    "cv2.waitKey()\n",
    "cv2.destroyAllWindows()"
   ]
  },
  {
   "cell_type": "markdown",
   "id": "55e883ee",
   "metadata": {},
   "source": [
    "## 4.6. Draw line (test code)"
   ]
  },
  {
   "cell_type": "code",
   "execution_count": null,
   "id": "e3729683",
   "metadata": {},
   "outputs": [],
   "source": [
    "import cv2\n",
    "\n",
    "def draw_line(input_path):\n",
    "    image = cv2.imread(input_path)\n",
    "    \n",
    "    point_skew1 = (list_coor_x[0], list_coor_y[0])\n",
    "    point_skew2 = (list_coor_x[-1], list_coor_y[-1])\n",
    "\n",
    "    point_straight1 = (list_coor_x[0], 0)\n",
    "    point_straight2 = (list_coor_x[-1], 0)\n",
    "    \n",
    "    color = (255, 0, 0) # will be Blue\n",
    "\n",
    "    # Thickness and line type\n",
    "    thickness = 2\n",
    "    linetype = cv2.LINE_AA\n",
    "\n",
    "    # Draw line on image\n",
    "    image = cv2.line(image, point_skew1, point_skew2, color, thickness, linetype)\n",
    "    image = cv2.line(image, point_straight1, point_straight2, color, thickness, linetype)\n",
    "    cv2.imshow(\"image\", image)\n",
    "    cv2.waitKey()\n",
    "    cv2.destroyAllWindows()"
   ]
  },
  {
   "cell_type": "code",
   "execution_count": null,
   "id": "498e28cb",
   "metadata": {},
   "outputs": [],
   "source": [
    "draw_line(\"experience/experience_resize/images_after_processed_110/1_110.jpg\")"
   ]
  },
  {
   "cell_type": "markdown",
   "id": "f928a27f",
   "metadata": {},
   "source": [
    "## 4.7. Calculate angle (test code)"
   ]
  },
  {
   "cell_type": "code",
   "execution_count": null,
   "id": "ab01688c",
   "metadata": {},
   "outputs": [],
   "source": [
    "line_skew = ( (list_coor_x[0], list_coor_y[0]) , (list_coor_x[-1], list_coor_y[-1]) )\n",
    "line_striaght = ( (list_coor_x[0], 0), (list_coor_x[-1], 0) )\n",
    "\n",
    "import math\n",
    "\n",
    "def dot(vA, vB):\n",
    "    return vA[0]*vB[0]+vA[1]*vB[1]\n",
    "\n",
    "def ang(lineA, lineB):\n",
    "    # Get nicer vector form\n",
    "    vA = [(lineA[0][0]-lineA[1][0]), (lineA[0][1]-lineA[1][1])]\n",
    "    vB = [(lineB[0][0]-lineB[1][0]), (lineB[0][1]-lineB[1][1])]\n",
    "    # Get dot prod\n",
    "    dot_prod = dot(vA, vB)\n",
    "    # Get magnitudes\n",
    "    magA = dot(vA, vA)**0.5\n",
    "    magB = dot(vB, vB)**0.5\n",
    "    # Get cosine value\n",
    "    cos_ = dot_prod/magA/magB\n",
    "    # Get angle in radians and then convert to degrees\n",
    "    angle = math.acos(dot_prod/magB/magA)\n",
    "    # Basically doing angle <- angle mod 360\n",
    "    ang_deg = math.degrees(angle)%360\n",
    "    \n",
    "    if ang_deg-180>=0:\n",
    "        # As in if statement\n",
    "        return 360 - ang_deg\n",
    "    else: \n",
    "        \n",
    "        return ang_deg"
   ]
  },
  {
   "cell_type": "code",
   "execution_count": null,
   "id": "df41c96a",
   "metadata": {},
   "outputs": [],
   "source": [
    "angle = ang(line_skew,line_straight)\n",
    "angle"
   ]
  },
  {
   "cell_type": "markdown",
   "id": "11a530d4",
   "metadata": {},
   "source": [
    "# 4.8. Rotate Image (test code)"
   ]
  },
  {
   "cell_type": "code",
   "execution_count": null,
   "id": "d71cc516",
   "metadata": {},
   "outputs": [],
   "source": [
    "from PIL import Image\n",
    "import cv2\n",
    "import numpy as np\n",
    "import math\n",
    "\n",
    "def get_coor(input_path):\n",
    "    image = cv2.imread(input_path)\n",
    "    h,w = image.shape[:2]\n",
    "    list_coor_x = []\n",
    "    list_coor_y = []\n",
    "\n",
    "    for x in range(0,w,15):\n",
    "        for y in range(round(h/10)):\n",
    "            x1,y1 =  (x,y)\n",
    "            x2,y2 = (x1+1, y1+1)\n",
    "            image_box = image[y1:y2, x1:x2]\n",
    "            if np.average(image_box) == 0:\n",
    "                list_coor_x.append(x1)\n",
    "                list_coor_y.append(y1)\n",
    "                break\n",
    "    return list_coor_x, list_coor_y\n",
    "\n",
    "def dot(vA, vB):\n",
    "    return vA[0]*vB[0]+vA[1]*vB[1]\n",
    "\n",
    "def calculate_angle(lineA, lineB):\n",
    "    # Get nicer vector form\n",
    "    vA = [(lineA[0][0]-lineA[1][0]), (lineA[0][1]-lineA[1][1])]\n",
    "    vB = [(lineB[0][0]-lineB[1][0]), (lineB[0][1]-lineB[1][1])]\n",
    "    # Get dot prod\n",
    "    dot_prod = dot(vA, vB)\n",
    "    # Get magnitudes\n",
    "    magA = dot(vA, vA)**0.5\n",
    "    magB = dot(vB, vB)**0.5\n",
    "    # Get cosine value\n",
    "    cos_ = dot_prod/magA/magB\n",
    "    # Get angle in radians and then convert to degrees\n",
    "    angle = math.acos(dot_prod/magB/magA)\n",
    "    # Basically doing angle <- angle mod 360\n",
    "    ang_deg = math.degrees(angle)%360\n",
    "    \n",
    "    if ang_deg-180>=0:\n",
    "        # As in if statement\n",
    "        return 360 - ang_deg\n",
    "    else: \n",
    "        \n",
    "        return ang_deg\n",
    "\n",
    "def rotate_image(input_path, output_path):\n",
    "    \n",
    "    # Get coordinate to draw skew line\n",
    "    list_coor_x, list_coor_y = get_coor(input_path)\n",
    "    line_skew = ( (list_coor_x[0], list_coor_y[0]) , (list_coor_x[-1], list_coor_y[-1]) )\n",
    "    line_straight = ( (list_coor_x[0], 0), (list_coor_x[-1], 0) )\n",
    "    \n",
    "    # Calculate angle of two lines\n",
    "    angle = calculate_angle(line_skew,line_straight)\n",
    "    \n",
    "    # Rotate Image\n",
    "    img = Image.open(input_path)\n",
    "    if list_coor_y[0] > list_coor_y[-1]:\n",
    "        img = img.rotate(-angle,fillcolor=255) \n",
    "        img.save(output_path) \n",
    "    elif list_coor_y[0] < list_coor_y[-1]:\n",
    "        img = img.rotate(angle,fillcolor=255) \n",
    "        img.save(output_path)\n",
    "    else:\n",
    "        print(\"Error\")"
   ]
  },
  {
   "cell_type": "markdown",
   "id": "83e80aab",
   "metadata": {},
   "source": [
    "## 4.9. Process and Rotate image (test code)"
   ]
  },
  {
   "cell_type": "code",
   "execution_count": null,
   "id": "4d9a5ea7",
   "metadata": {},
   "outputs": [],
   "source": [
    "import numpy as np \n",
    "import cv2\n",
    "import os\n",
    "\n",
    "def process_image(input_path_folder, output_path_folder, thresh):\n",
    "    # Get name file in folder\n",
    "    for index, filename in enumerate(os.listdir(input_path_folder)):\n",
    "        path_file = input_path_folder + \"/\" + filename\n",
    "        \n",
    "        # load image\n",
    "        img = cv2.imread(path_file)\n",
    "        name_img = os.path.splitext(filename)[0]\n",
    "        # Convert BGR to HSV\n",
    "        hsv = cv2.cvtColor(img, cv2.COLOR_BGR2HSV)\n",
    "\n",
    "        # define range of black color in HSV\n",
    "        lower_val = np.array([0,0,0])\n",
    "        \n",
    "        upper_val = np.array([179,255,thresh])\n",
    "        \n",
    "        # Threshold the HSV image to get only black colors\n",
    "        mask = cv2.inRange(hsv, lower_val, upper_val)\n",
    "\n",
    "        # invert mask to get black symbols on white background\n",
    "        mask_inv = cv2.bitwise_not(mask)\n",
    "        \n",
    "        output_path = f\"{output_path_folder}/{name_img}_{thresh}.jpg\"\n",
    "        cv2.imwrite(output_path, mask_inv)\n",
    "        \n",
    "        # Rotate Image\n",
    "        rotate_image(input_path=output_path, output_path=output_path)"
   ]
  },
  {
   "cell_type": "code",
   "execution_count": null,
   "id": "bda80dfa",
   "metadata": {},
   "outputs": [],
   "source": [
    "process_image(input_path_folder=\"experience/experience_resize/images_after_detected\",\n",
    "              output_path_folder=\"experience/experience_resize/images_after_processed_100\",\n",
    "              thresh=100)"
   ]
  },
  {
   "cell_type": "markdown",
   "id": "e92ad449",
   "metadata": {},
   "source": [
    "# 5. QRcode reconstruction"
   ]
  },
  {
   "cell_type": "markdown",
   "id": "f74a6013",
   "metadata": {},
   "source": [
    "## Draw Grid"
   ]
  },
  {
   "cell_type": "code",
   "execution_count": null,
   "id": "acf51bca",
   "metadata": {},
   "outputs": [],
   "source": [
    "import cv2\n",
    "\n",
    "def draw_gird(img, shape):\n",
    "    # size of gird\n",
    "    size = img.shape\n",
    "    # print(\"size input: {}\".format(size))\n",
    "\n",
    "    # resize image\n",
    "    width = int(img.shape[1] * shape[1])\n",
    "    height = int(img.shape[0] * shape[0])\n",
    "    dim = (width, height)\n",
    "  \n",
    "    img = cv2.resize(img, dim, interpolation = cv2.INTER_AREA)\n",
    "\n",
    "    size = img.shape\n",
    "    \n",
    "    dx = int(size[0]/shape[0])\n",
    "    dy = int(size[1]/shape[1])\n",
    "\n",
    "    # Custom (rgb) grid color\n",
    "    grid_color = 0\n",
    "\n",
    "    # Modify the image to include the grid\n",
    "    img[:,::dy] = grid_color\n",
    "    img[::dx,:] = grid_color\n",
    "    return img"
   ]
  },
  {
   "cell_type": "code",
   "execution_count": null,
   "id": "8a59bde5",
   "metadata": {},
   "outputs": [],
   "source": [
    "img = cv2.imread(\"\")"
   ]
  }
 ],
 "metadata": {
  "kernelspec": {
   "display_name": "Python 3 (ipykernel)",
   "language": "python",
   "name": "python3"
  },
  "language_info": {
   "codemirror_mode": {
    "name": "ipython",
    "version": 3
   },
   "file_extension": ".py",
   "mimetype": "text/x-python",
   "name": "python",
   "nbconvert_exporter": "python",
   "pygments_lexer": "ipython3",
   "version": "3.8.8"
  },
  "vscode": {
   "interpreter": {
    "hash": "f7dbcbf73cc2d9e2d4112fa9d172420ae5f8738c8488a40980ee84defb367c62"
   }
  }
 },
 "nbformat": 4,
 "nbformat_minor": 5
}
